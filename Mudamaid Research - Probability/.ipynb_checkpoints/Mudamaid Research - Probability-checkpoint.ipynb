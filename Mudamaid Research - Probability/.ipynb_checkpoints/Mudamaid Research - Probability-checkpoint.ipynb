{
 "cells": [
  {
   "cell_type": "code",
   "execution_count": 1,
   "metadata": {},
   "outputs": [],
   "source": [
    "# Some imports\n",
    "import pandas as pd\n",
    "import numpy as np\n",
    "import math\n",
    "import random\n",
    "import matplotlib.pyplot as plt \n",
    "from scipy.stats import binom, beta"
   ]
  },
  {
   "cell_type": "markdown",
   "metadata": {},
   "source": [
    "## Introduction"
   ]
  },
  {
   "cell_type": "markdown",
   "metadata": {},
   "source": [
    "The widely used communicationg application, Discord, has a wide variety of bots that people can interact with. Bots are created by other users and have a wide variety of uses such as listening to music in voice channels, moderating discord servers, and playing games. Users can invite bots to their own channels and play around with them through different bot commands. One such bot is called Mudamaid, a fun bot that offers a wide variety of games. One such game is a Pokémon slot machine where users roll Pokémon once every 2 hours and have a chance of getting pokemon of 5(6) rarities. When repeat Pokémon are rolled, users may exchange 2 repeats for roll(s).\n",
    "              \n",
    "<img src=\"img/mudamaid picture.png\" />\n",
    "A user can obtain multiple Pokémon of different rarity on the same roll.\n",
    "<img src=\"img/mudamaid picture 1.png\" />\n",
    "And users can obtain higher rarity Pokémon without rolling the lower rarities.\n",
    "<img src=\"img/mudamaid picture 2.png\" />\n",
    "\n",
    "One question we ask is **\"What is the probability of a specific rarity appearing on a roll?\"**"
   ]
  },
  {
   "cell_type": "markdown",
   "metadata": {},
   "source": [
    "## Data Gathering"
   ]
  },
  {
   "cell_type": "markdown",
   "metadata": {},
   "source": [
    "On August 11 2019, bridapanda began saving her exchange rolls for a year, exchanging them on August 11 2020.\n",
    "\n",
    "<img src=\"img/mudamaid rolls.png\" />\n",
    "\n",
    "During this period of time, bridapanda continued to roll and exchange rolls before running out of rolls, totaling **868 rolls**. The total distribution of rolls is as follows:"
   ]
  },
  {
   "cell_type": "code",
   "execution_count": 2,
   "metadata": {},
   "outputs": [
    {
     "data": {
      "text/html": [
       "<div>\n",
       "<style scoped>\n",
       "    .dataframe tbody tr th:only-of-type {\n",
       "        vertical-align: middle;\n",
       "    }\n",
       "\n",
       "    .dataframe tbody tr th {\n",
       "        vertical-align: top;\n",
       "    }\n",
       "\n",
       "    .dataframe thead th {\n",
       "        text-align: right;\n",
       "    }\n",
       "</style>\n",
       "<table border=\"1\" class=\"dataframe\">\n",
       "  <thead>\n",
       "    <tr style=\"text-align: right;\">\n",
       "      <th></th>\n",
       "      <th>Rarity Count</th>\n",
       "      <th>Probabilities</th>\n",
       "    </tr>\n",
       "  </thead>\n",
       "  <tbody>\n",
       "    <tr>\n",
       "      <th>1</th>\n",
       "      <td>812</td>\n",
       "      <td>0.935484</td>\n",
       "    </tr>\n",
       "    <tr>\n",
       "      <th>2</th>\n",
       "      <td>182</td>\n",
       "      <td>0.209677</td>\n",
       "    </tr>\n",
       "    <tr>\n",
       "      <th>3</th>\n",
       "      <td>74</td>\n",
       "      <td>0.085253</td>\n",
       "    </tr>\n",
       "    <tr>\n",
       "      <th>4</th>\n",
       "      <td>24</td>\n",
       "      <td>0.027650</td>\n",
       "    </tr>\n",
       "    <tr>\n",
       "      <th>5</th>\n",
       "      <td>4</td>\n",
       "      <td>0.004608</td>\n",
       "    </tr>\n",
       "    <tr>\n",
       "      <th>6</th>\n",
       "      <td>1</td>\n",
       "      <td>0.001152</td>\n",
       "    </tr>\n",
       "  </tbody>\n",
       "</table>\n",
       "</div>"
      ],
      "text/plain": [
       "   Rarity Count  Probabilities\n",
       "1           812       0.935484\n",
       "2           182       0.209677\n",
       "3            74       0.085253\n",
       "4            24       0.027650\n",
       "5             4       0.004608\n",
       "6             1       0.001152"
      ]
     },
     "execution_count": 2,
     "metadata": {},
     "output_type": "execute_result"
    }
   ],
   "source": [
    "pokeslot_rolls = pd.DataFrame({'Rarity Count':[812, 182, 74, 24, 4, 1]},\n",
    "                              index = ['1', '2', '3', '4', '5', '6'])\n",
    "pokeslot_rolls['Probabilities'] = pokeslot_rolls['Rarity Count'] / 868\n",
    "pokeslot_rolls"
   ]
  },
  {
   "cell_type": "markdown",
   "metadata": {},
   "source": [
    "We assume a few things while making this analysis:\n",
    "* **Each roll is independent** of one another and the roll percentages are the same for every user.\n",
    "* **Each rarity is independent** of another rarity. Getting a rarity 1 Pokémon does not influence the chance of getting a rarity 4 Pokémon.\n",
    "* Each rarity roll is treated as a **Bernoulli trial**. When rolled, there are only 2 outcomes for its rarities, either a success (a Pokémon was rolled in all 3 slots) or a failure (the rolled Pokémons were not the same in all 3 slots). Thus, having n number of rolls creates a **Binomial Distribution**, the distribution of successes in n trials.\n",
    "\n",
    "Rolling legendary pokemon (rarity 5) is really interesting to us and seems to also have a very low probability of occuring. Thus, we want to know the probability of legendary Pokémon occuring within a single roll."
   ]
  },
  {
   "cell_type": "markdown",
   "metadata": {},
   "source": [
    "Based on the data that was gathered, we can estimate that the probability of getting a rarity 5 Pokémon is around 0.004608. But the probability isn't exactly 0.004608. For example, let's say that we have a weighted coin and we want to figure out the probability that flipping it will land heads. Out of 10 flips, if 10 landed heads would you be inclined to believe that landing a heads has a probability of 1? How about if we landed 0 heads? Here, we enter what is known as the **probability of probabilities and Bayesian Statistics**."
   ]
  },
  {
   "cell_type": "markdown",
   "metadata": {},
   "source": [
    "## Introduction to Bayesian Statistics"
   ]
  },
  {
   "cell_type": "markdown",
   "metadata": {},
   "source": [
    "### An Example to Start\n",
    "\n",
    "Let's say that you're buying a product online and find that out of 10 reviews, all 10 give a positive rating. Even though there is a 100% positivity rating, it still feels weird to assume that the product will always produce a positive response. Why is that?"
   ]
  },
  {
   "cell_type": "markdown",
   "metadata": {},
   "source": [
    "Let's define $p$ as the probability that the product that you are viewing produces a positive response. We want to find this probability, so we have $P(X) = p$. We have information that the product has a 10/10 positive review rate, but this doesn't mean that $P(X) = 1$, and we can show this using a simple simulation. We first define $S$ as the number of positive ratings that the product recieves in 10 random reviews. We then assume that $p = 0.9$ and use that to find the probability that $S = 10$, or more simply: $P(S=10 | p=0.9)$ (the | symbol means given that, so we read this as the probability that there are 10 successes given that the probability of a success is 0.9). We can simulate the expected result of this probability through simulating this process many times."
   ]
  },
  {
   "cell_type": "code",
   "execution_count": 3,
   "metadata": {},
   "outputs": [
    {
     "data": {
      "text/plain": [
       "0.374"
      ]
     },
     "execution_count": 3,
     "metadata": {},
     "output_type": "execute_result"
    }
   ],
   "source": [
    "random.seed(10)\n",
    "s_successes = []\n",
    "for i in range(1000):\n",
    "    s = 0\n",
    "    for i in range(10):\n",
    "        if random.uniform(0, 1) <= 0.9:\n",
    "            s += 1\n",
    "    s_successes.append(s)\n",
    "\n",
    "equals_10_successes = lambda x: x == 10\n",
    "probability_10_successes = sum(list(map(equals_10_successes, s_successes))) / 1000\n",
    "probability_10_successes"
   ]
  },
  {
   "cell_type": "markdown",
   "metadata": {},
   "source": [
    "In our simulation, the probability that there are 10 successes out of 10 when the given probability of 1 success is 0.9 is suprisingly high, about 0.374. We can further refine this by introducing the Binomial Distribution's probability mass function, a function that \"gives the probability that a discrete random variable is exactly equal to some value\". For this scenario, we want the probability that our random variable S equals 10. The probability mass function is as follows:\n",
    "\n",
    "\\begin{equation*}\n",
    "f(k;n,p) = {\\displaystyle {\\binom {n}{k}}p^{k}(1-p)^{n-k}}\n",
    "\\end{equation*}\n",
    "\n",
    "where n is the number of trials (10) and k is the number of successes. Filling in the variables, we have\n",
    "\n",
    "\\begin{equation*}\n",
    "{\\displaystyle {\\binom {10}{10}}0.9^{10}(1-0.9)^{0}} = 0.9^{10} \\approx 0.3486\n",
    "\\end{equation*}\n",
    "\n",
    "We can also visualize every possible value of S by plotting our probability mass function using a bar graph."
   ]
  },
  {
   "cell_type": "code",
   "execution_count": 4,
   "metadata": {},
   "outputs": [
    {
     "data": {
      "text/plain": [
       "<BarContainer object of 11 artists>"
      ]
     },
     "execution_count": 4,
     "metadata": {},
     "output_type": "execute_result"
    },
    {
     "data": {
      "image/png": "[encoded data removed]",
      "text/plain": [
       "<Figure size 432x288 with 1 Axes>"
      ]
     },
     "metadata": {
      "needs_background": "light"
     },
     "output_type": "display_data"
    }
   ],
   "source": [
    "x = [binom.pmf(i, 10, 0.9) for i in range(11)]\n",
    "values = np.arange(11)\n",
    "plt.bar(values, height = x)"
   ]
  },
  {
   "cell_type": "markdown",
   "metadata": {},
   "source": [
    "So, we found that our probability is around 0.3486. This is close to our simulated value, 0.374. We now know that $P(S=10 | p=0.9) \\approx 0.3486$ and showed that 10 successes out of 10 doesn't mean that $p = 1$. But that wasn't our initial question. What we found here was the probability that our data produces n number of successes given that the probability is set to a given number. We found $P(Data Produced|p)$. What we want is $P(p|Data Produced)$. To do this, we introduce a new distribution and a new way to think about probability."
   ]
  },
  {
   "cell_type": "markdown",
   "metadata": {},
   "source": [
    "### Bayesian Statistics and the Beta Distribution\n",
    "When we go about our lives, we are constantly making decisions and have beliefs about the world based on our current knowledge, such as whether a certain major would be in someone's best intrest, whether getting a dog would be a good choice, or whether it is going to rain on a certain day. When we get new information (like how that person likes analyzing literature, or large animals are fun to be around, or there are no clouds in the sky), we update our beliefs based on our new knowledge. This is core idea behind Bayesian Statistics. We update our belief about a probability of some event based on new data that we obtain. Thus, we have **prior beliefs → new information → posterior beliefs**."
   ]
  },
  {
   "cell_type": "markdown",
   "metadata": {},
   "source": [
    "Bayes's Rule for events A and B is as follows: \n",
    "\n",
    "\\begin{equation*}\n",
    "P(A|B) = \\frac{P(B|A) \\cdot P(A)}{P(B)}\n",
    "\\end{equation*}\n",
    "\n",
    "If we take a deeper look, **P(A) is our prior belief**. It's our beliefs about the world before we are given our new information, B. Thus, **P(A|B) is our posterior belief**. It's our new beliefs about the same event once we are given our new information, B. Additionally, **P(B|A) is how likely we see our new data given our beliefs**.\n",
    "\n",
    "We can further generalize this equation that describes functions. We let $g(\\Theta)$ be our prior belief with $\\Theta$ as our inputs and $f_X(x)$ be our new information. Thus, $g(\\Theta|X = x)$ is our posterior belief and our likelihood is given by $f_X(x|\\Theta)$. We rewrite our equation:\n",
    "\n",
    "\\begin{equation*}\n",
    "g(\\Theta|X = x) = \\frac{f_X(x|\\Theta) \\cdot g(\\Theta)}{f_X(x)}\n",
    "\\end{equation*}"
   ]
  },
  {
   "cell_type": "markdown",
   "metadata": {},
   "source": [
    "Since our new information given a belief (the 10 positive reviews out of 10 given that the probability of a positive review is 0.9) is distributed by the Binomial Distribution and is described in our equation as $f(x|\\Theta)$, we have to find our prior. We first look at our new distribution, the Beta Distribution.\n",
    "\n",
    "The probability density function (similar to the probability mass funciton, but gives a relative likelihood of a given random variable) of the Beta Distribution is given as: \n",
    "\n",
    "\\begin{equation*}\n",
    "g_{\\Theta}(\\theta;a, b) = \\frac{\\Gamma(a + b)}{\\Gamma(a)\\Gamma(b)}\\theta^{a-1}(1-\\theta)^{b-1} \\space where \\space\\theta \\space\\epsilon \\space[0, 1]\n",
    "\\end{equation*}\n",
    "\n",
    "\\begin{equation*}\n",
    "\\Gamma(n) = (n - 1)!\\space\\space\\text{for any positive integer n}\n",
    "\\end{equation*}"
   ]
  },
  {
   "cell_type": "markdown",
   "metadata": {},
   "source": [
    "Now, we need to show that Beta Distribution is the congugate prior to the Binomial Distribution. To do this, we have to show that $g(\\Theta|X = x)$ looks similar to our Beta Distribution. We first break down the right hand side of our equation into different pieces, $f_X(x|\\Theta)$ and $g(\\Theta)$. Our prior, $g(\\Theta)$, is our Beta Distribution and our likelihood, $f_X(x|\\Theta)$, is our Binomial Distribution.\n",
    "\n",
    "\\begin{equation*}\n",
    "g(\\theta) \\rightarrow g(p;a, b) = \\frac{\\Gamma(a + b)}{\\Gamma(a)\\Gamma(b)}p^{a-1}(1-p)^{b-1}\n",
    "\\end{equation*}\n",
    "\n",
    "\\begin{equation*}\n",
    "f(x|\\theta) \\rightarrow f(x;n, p) = {\\displaystyle {\\binom {n}{x}}p^{x}(1-p)^{n-x}}\n",
    "\\end{equation*}\n",
    "\n",
    "\\begin{equation*}\n",
    "=\\frac{n!}{x!(n-x)!}p^{x}(1-p)^{n-x}\n",
    "\\end{equation*}\n",
    "\n",
    "We can use a small trick to get our likelihood looking like our prior:\n",
    "\n",
    "\\begin{equation*}\n",
    "=\\frac{\\Gamma(n+1)}{\\Gamma(x+1)\\Gamma(n-x+1)}p^{x}(1-p)^{n-x}\n",
    "\\end{equation*}\n",
    "\n",
    "Finally, because we are showing that $g(\\Theta|X = x)$ looks similar to our Beta Distribution, we can use proportionality to simplify our equation (hide our denominator and hide our constants):\n",
    "\n",
    "\\begin{equation*}\n",
    "g(\\Theta|X = x) \\rightarrow g(p|x)\\space\\propto\\space f(x|\\theta) \\cdot g(p)\n",
    "\\end{equation*}\n",
    "\n",
    "\\begin{equation*}\n",
    "\\propto\\space \\frac{\\Gamma(a + b)}{\\Gamma(a)\\Gamma(b)}p^{a-1}(1-p)^{b-1} \\cdot \\frac{\\Gamma(n+1)}{\\Gamma(x+1)\\Gamma(n-x+1)}p^{x}(1-p)^{n-x}\n",
    "\\end{equation*}\n",
    "\n",
    "\\begin{equation*}\n",
    "\\propto\\space \\frac{\\Gamma(a + b)\\Gamma(n+1)}{\\Gamma(a)\\Gamma(b)\\Gamma(x+1)\\Gamma(n-x+1)}p^{a-1}(1-p)^{b-1} \\cdot p^{x}(1-p)^{n-x}\n",
    "\\end{equation*}\n",
    "\n",
    "\\begin{equation*}\n",
    "\\propto\\space p^{a-1+x}(1-p)^{b-1+n-x}\n",
    "\\end{equation*}\n",
    "\n",
    "So, $g(p|x)\\propto p^{a+x-1}(1-p)^{b+n-x-1}$, which looks similar to $Beta(a+x, b+n-x)$. Additionally, $g(p|x)$ is a pdf, so if it has the same variables as another pdf, then they must be the same because their functions must integrate to 1. Since $g(p|x)$ shares the same variables as $Beta(a+x, b+n-x)$, $g(p|x)$ must equal $Beta(a+x, b+n-x)$.\n",
    "\n",
    "Now, since we know that our prior is distributed by the Beta Distribution, we now understand that the possible probabilities that govern our successes in our online shopping, our Pokémon rolls, and any Bernoulli process is modelled by the Beta Distribution."
   ]
  },
  {
   "cell_type": "markdown",
   "metadata": {},
   "source": [
    "### Application\n",
    "Now we know how our probablity of probabilities is distributed, we could start modelling our rarity 5 Pokémon roll probabilities. We can think about our process in two ways: When we have no prior data vs. When we do have prior data."
   ]
  },
  {
   "cell_type": "markdown",
   "metadata": {},
   "source": [
    "#### No prior data\n",
    "When we have no prior data to our Pokémon rolls, we can only assume that the probability of a rarity 5 Pokémon coming up is any probability from 0 to 1. Thus, our prior can be described as a Uniform Distribution, which is also the Beta Distribution if a and b are equal to 1!"
   ]
  },
  {
   "cell_type": "code",
   "execution_count": 5,
   "metadata": {},
   "outputs": [
    {
     "data": {
      "text/plain": [
       "[<matplotlib.lines.Line2D at 0x227cae65d90>]"
      ]
     },
     "execution_count": 5,
     "metadata": {},
     "output_type": "execute_result"
    },
    {
     "data": {
      "image/png": "[encoded data removed]",
      "text/plain": [
       "<Figure size 432x288 with 1 Axes>"
      ]
     },
     "metadata": {
      "needs_background": "light"
     },
     "output_type": "display_data"
    }
   ],
   "source": [
    "a = 1\n",
    "b = 1\n",
    "x = np.arange(0, 1, 0.0001)\n",
    "y = (math.factorial(a+b-1)/(math.factorial(a-1)*math.factorial(b-1)))*x**(a-1)*(1-x)**(b-1)\n",
    "plt.plot(x, y)"
   ]
  },
  {
   "cell_type": "code",
   "execution_count": 6,
   "metadata": {},
   "outputs": [
    {
     "data": {
      "text/plain": [
       "[<matplotlib.lines.Line2D at 0x227cbeab730>]"
      ]
     },
     "execution_count": 6,
     "metadata": {},
     "output_type": "execute_result"
    },
    {
     "data": {
      "image/png": "[encoded data removed]",
      "text/plain": [
       "<Figure size 432x288 with 1 Axes>"
      ]
     },
     "metadata": {
      "needs_background": "light"
     },
     "output_type": "display_data"
    }
   ],
   "source": [
    "# Using scipy's beta function produces the same results\n",
    "a = 1\n",
    "b = 1\n",
    "x = np.arange(0, 1, 0.0001)\n",
    "y = beta.pdf(x, a, b)\n",
    "plt.plot(x,y)"
   ]
  },
  {
   "cell_type": "markdown",
   "metadata": {},
   "source": [
    "Thus, we start with our prior $Beta(1, 1)$. We now update our prior based on the data we collected from the rolls with our update rule, $Beta(a+x, b+n-x)$. Since $n = 868$ and $x = 4$, we have our new posterior, $Beta(1+4, 1+868-4) = Beta(5, 865)$"
   ]
  },
  {
   "cell_type": "code",
   "execution_count": 7,
   "metadata": {},
   "outputs": [
    {
     "data": {
      "text/plain": [
       "[<matplotlib.lines.Line2D at 0x227cbef9af0>]"
      ]
     },
     "execution_count": 7,
     "metadata": {},
     "output_type": "execute_result"
    },
    {
     "data": {
      "image/png": "[encoded data removed]",
      "text/plain": [
       "<Figure size 432x288 with 1 Axes>"
      ]
     },
     "metadata": {
      "needs_background": "light"
     },
     "output_type": "display_data"
    }
   ],
   "source": [
    "a = 5\n",
    "b = 865\n",
    "x = np.arange(0, 1, 0.0001)\n",
    "y = beta.pdf(x, a, b)\n",
    "plt.plot(x, y)"
   ]
  },
  {
   "cell_type": "code",
   "execution_count": 8,
   "metadata": {},
   "outputs": [
    {
     "data": {
      "text/plain": [
       "[<matplotlib.lines.Line2D at 0x227cbf50cd0>]"
      ]
     },
     "execution_count": 8,
     "metadata": {},
     "output_type": "execute_result"
    },
    {
     "data": {
      "image/png": "[encoded data removed]",
      "text/plain": [
       "<Figure size 432x288 with 1 Axes>"
      ]
     },
     "metadata": {
      "needs_background": "light"
     },
     "output_type": "display_data"
    }
   ],
   "source": [
    "#a closer look\n",
    "x = np.arange(0, 0.05, 0.0001)\n",
    "y = beta.pdf(x, a, b)\n",
    "plt.plot(x, y)"
   ]
  },
  {
   "cell_type": "markdown",
   "metadata": {},
   "source": [
    "Thus, without any prior data, the disistribution of $Beta(5, 865)$ discribes the probability of the probability of rolling a rarity 5 Pokémon."
   ]
  },
  {
   "cell_type": "markdown",
   "metadata": {},
   "source": [
    "#### Assuming Prior Data"
   ]
  },
  {
   "cell_type": "markdown",
   "metadata": {},
   "source": [
    "All of us knew beforehand that rolling a rarity 5 Pokémon was not a common occurance. It happened very rarely and it was like common knowledge that getting a rarity 5 roll was legendary. Thus, we can start off with a general belief about how the probabilities would look like without collecting prior data. Since we know that rolling a rarity 5 Pokémon is very unlikely, we can first guess that the probability of rolling one is 0.1, but we're not entirely sure. We can still model this prior by assuming that if our guess of 0.1 is the highest likelihood, then the mode of the Beta Distribution will also reflect this (the mode of our prior should be 0.1). Looking it up, the mode of the Beta Distribution is $\\frac{a-1}{a+b-2}$. So, we have:\n",
    "\n",
    "\n",
    "\\begin{equation*}\n",
    "\\frac{a-1}{a+b-2} = \\frac{1}{10}\n",
    "\\end{equation*}\n",
    "\n",
    "\n",
    "\\begin{equation*}\n",
    "10a-10 = a+b-2\n",
    "\\end{equation*}\n",
    "\n",
    "\n",
    "\\begin{equation*}\n",
    "9a = b + 8\n",
    "\\end{equation*}\n",
    "\n",
    "\\begin{equation*}\n",
    "b = 9a - 8\n",
    "\\end{equation*}"
   ]
  },
  {
   "cell_type": "markdown",
   "metadata": {},
   "source": [
    "This tells us that if we want the mode of our Beta Distribution to be 0.1, we want to find any a and b such that $b = 9a - 8$. There are many different answers to this question, so we can try different values of a and b until we find a distribution that aligns with our beliefs."
   ]
  },
  {
   "cell_type": "code",
   "execution_count": 9,
   "metadata": {},
   "outputs": [
    {
     "data": {
      "text/plain": [
       "[<matplotlib.lines.Line2D at 0x227cbfb1160>]"
      ]
     },
     "execution_count": 9,
     "metadata": {},
     "output_type": "execute_result"
    },
    {
     "data": {
      "image/png": "[encoded data removed]",
      "text/plain": [
       "<Figure size 432x288 with 1 Axes>"
      ]
     },
     "metadata": {
      "needs_background": "light"
     },
     "output_type": "display_data"
    }
   ],
   "source": [
    "# One example\n",
    "a = 3\n",
    "b = 9*a - 8\n",
    "x = np.arange(0, 1, 0.0001)\n",
    "y = beta.pdf(x, a, b)\n",
    "plt.plot(x, y)"
   ]
  },
  {
   "cell_type": "code",
   "execution_count": 10,
   "metadata": {},
   "outputs": [
    {
     "data": {
      "text/plain": [
       "[<matplotlib.lines.Line2D at 0x227cbfffe80>]"
      ]
     },
     "execution_count": 10,
     "metadata": {},
     "output_type": "execute_result"
    },
    {
     "data": {
      "image/png": "[encoded data removed]",
      "text/plain": [
       "<Figure size 432x288 with 1 Axes>"
      ]
     },
     "metadata": {
      "needs_background": "light"
     },
     "output_type": "display_data"
    }
   ],
   "source": [
    "# This seems ok\n",
    "a = 20\n",
    "b = 9*a - 8\n",
    "x = np.arange(0, 1, 0.0001)\n",
    "y = beta.pdf(x, a, b)\n",
    "plt.plot(x, y)"
   ]
  },
  {
   "cell_type": "markdown",
   "metadata": {},
   "source": [
    "Now, our prior is $Beta(20, 172)$. Using our update rule, we have $Beta(20+4, 172+868-4) = Beta(24,1036)$"
   ]
  },
  {
   "cell_type": "code",
   "execution_count": 11,
   "metadata": {},
   "outputs": [
    {
     "data": {
      "text/plain": [
       "[<matplotlib.lines.Line2D at 0x227cc0630d0>]"
      ]
     },
     "execution_count": 11,
     "metadata": {},
     "output_type": "execute_result"
    },
    {
     "data": {
      "image/png": "[encoded data removed]",
      "text/plain": [
       "<Figure size 432x288 with 1 Axes>"
      ]
     },
     "metadata": {
      "needs_background": "light"
     },
     "output_type": "display_data"
    }
   ],
   "source": [
    "a = 24\n",
    "b = 1036\n",
    "x = np.arange(0, 1, 0.0001)\n",
    "y = beta.pdf(x, a, b)\n",
    "plt.plot(x, y)"
   ]
  },
  {
   "cell_type": "code",
   "execution_count": 12,
   "metadata": {},
   "outputs": [
    {
     "data": {
      "text/plain": [
       "[<matplotlib.lines.Line2D at 0x227cc0b3160>]"
      ]
     },
     "execution_count": 12,
     "metadata": {},
     "output_type": "execute_result"
    },
    {
     "data": {
      "image/png": "[encoded data removed]",
      "text/plain": [
       "<Figure size 432x288 with 1 Axes>"
      ]
     },
     "metadata": {
      "needs_background": "light"
     },
     "output_type": "display_data"
    }
   ],
   "source": [
    "# A closer look\n",
    "x = np.arange(0, 0.05, 0.0001)\n",
    "y = beta.pdf(x, a, b)\n",
    "plt.plot(x, y)"
   ]
  },
  {
   "cell_type": "markdown",
   "metadata": {},
   "source": [
    "We can compare the two modes that we computed from the distribution without prior data and the distribution with prior data. In our first distribution (no prior data), the mode is $\\frac{5-1}{5+865-2} \\approx 0.0046$. This is also the proportion of rarity 5 Pokémon in our original sample, not a coincidence! In our second distribution (with an idea of what our distribution should look like), the mode is $\\frac{24-1}{24+1036-2} \\approx 0.0217$."
   ]
  },
  {
   "cell_type": "code",
   "execution_count": 13,
   "metadata": {},
   "outputs": [
    {
     "data": {
      "text/plain": [
       "Text(0.5, 1.0, 'Probability Density of Proportion of rolling a rarity 5 Pokémon')"
      ]
     },
     "execution_count": 13,
     "metadata": {},
     "output_type": "execute_result"
    },
    {
     "data": {
      "image/png": "[encoded data removed]",
      "text/plain": [
       "<Figure size 432x288 with 1 Axes>"
      ]
     },
     "metadata": {
      "needs_background": "light"
     },
     "output_type": "display_data"
    }
   ],
   "source": [
    "a1 = 5\n",
    "b1 = 865\n",
    "\n",
    "a2 = 24\n",
    "b2 = 1036\n",
    "\n",
    "x = np.arange(0, 0.05, 0.0001)\n",
    "y1 = beta.pdf(x, a1, b1)\n",
    "y2 = beta.pdf(x, a2, b2)\n",
    "\n",
    "\n",
    "plt.plot(x, y1, label='No Prior Data:Beta(5,865)')\n",
    "plt.plot(x, y2, label='Prior Knowledge:Beta(24,1036)')\n",
    "\n",
    "plt.plot(0.0046,beta.pdf(0.0046, 5, 865), 'ro')\n",
    "plt.annotate(\"  Mode: 0.0046\", (0.0046,beta.pdf(0.0046, 5, 865)))\n",
    "\n",
    "plt.plot(0.0217,beta.pdf(0.0217, 24, 1036), 'ro')\n",
    "plt.annotate(\"  Mode: 0.0217\", (0.0217,beta.pdf(0.0217, 24, 1036)))\n",
    "\n",
    "plt.legend()\n",
    "plt.xlabel('Proportion Value')\n",
    "plt.title('Probability Density of Proportion of rolling a rarity 5 Pokémon')"
   ]
  },
  {
   "cell_type": "code",
   "execution_count": null,
   "metadata": {},
   "outputs": [],
   "source": []
  }
 ],
 "metadata": {
  "kernelspec": {
   "display_name": "Python 3",
   "language": "python",
   "name": "python3"
  },
  "language_info": {
   "codemirror_mode": {
    "name": "ipython",
    "version": 3
   },
   "file_extension": ".py",
   "mimetype": "text/x-python",
   "name": "python",
   "nbconvert_exporter": "python",
   "pygments_lexer": "ipython3",
   "version": "3.8.3"
  }
 },
 "nbformat": 4,
 "nbformat_minor": 4
}
